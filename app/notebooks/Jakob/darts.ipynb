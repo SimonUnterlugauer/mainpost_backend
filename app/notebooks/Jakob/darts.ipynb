{
 "cells": [
  {
   "cell_type": "code",
   "execution_count": null,
   "metadata": {},
   "outputs": [],
   "source": [
    "import pandas as pd\n",
    "from darts import TimeSeries"
   ]
  },
  {
   "cell_type": "code",
   "execution_count": null,
   "metadata": {},
   "outputs": [],
   "source": [
    "#df = pd.read_csv(r\"C:\\Users\\jakob\\Downloads\\archive (1)\\AirPassengers.csv\")\n",
    "\n",
    "ab_df = pd.read_csv(\"../../data\\absences_aggregated.csv', sep=',')\n",
    "ab_df"
   ]
  },
  {
   "cell_type": "code",
   "execution_count": null,
   "metadata": {},
   "outputs": [],
   "source": [
    "ab_df = ab_df[['index', 'count']]\n",
    "# drop all rows with index older than 2023-03-01\n",
    "ab_df = ab_df.drop(ab_df[ab_df['index'] > '2023-03-01'].index)\n",
    "# normalize data   \n",
    "ab_df['count'] = ab_df['count'] / ab_df['count'].max()\n",
    "ab_df\n"
   ]
  },
  {
   "cell_type": "code",
   "execution_count": null,
   "metadata": {},
   "outputs": [],
   "source": [
    "#series = TimeSeries.from_dataframe(df, 'Month', '#Passengers')\n",
    "#series = TimeSeries.from_dataframe(df, 'Month', '#Passengers')\n",
    "#series\n",
    "#creaet new dataframe with only date and count\n",
    "ab_df['index'] = pd.to_datetime(ab_df['index'])\n",
    "\n",
    "series = TimeSeries.from_dataframe(ab_df, 'index', 'count')\n",
    "series"
   ]
  },
  {
   "cell_type": "code",
   "execution_count": null,
   "metadata": {},
   "outputs": [],
   "source": [
    "from darts.models import ExponentialSmoothing\n",
    "\n",
    "train, val = series.split_before(pd.Timestamp('20220701'))\n",
    "\n",
    "model = ExponentialSmoothing()\n",
    "model.fit(train)\n",
    "prediction = model.predict(len(val))"
   ]
  },
  {
   "cell_type": "code",
   "execution_count": null,
   "metadata": {},
   "outputs": [],
   "source": [
    "import matplotlib.pyplot as plt\n",
    "\n",
    "series.plot(label='actual')\n",
    "prediction.plot(label='forecast', lw=3)\n",
    "plt.legend()\n"
   ]
  },
  {
   "cell_type": "code",
   "execution_count": null,
   "metadata": {},
   "outputs": [],
   "source": [
    "from darts.models import Prophet\n",
    "\n",
    "models = [ExponentialSmoothing(), Prophet()]\n",
    "\n",
    "backtests = [model.historical_forecasts(series,\n",
    "                            start=.7,\n",
    "                            forecast_horizon=3)\n",
    "             for model in models]"
   ]
  },
  {
   "cell_type": "code",
   "execution_count": null,
   "metadata": {},
   "outputs": [],
   "source": [
    "from darts.metrics import mape\n",
    "\n",
    "series.plot(label='data')\n",
    "for i, m in enumerate(models):\n",
    "    err = mape(backtests[i], series)\n",
    "    backtests[i].plot(lw=3, label='{}, MAPE={:.2f}%'.format(m, err))\n",
    "\n",
    "plt.title('Backtesting results')\n",
    "plt.legend()"
   ]
  },
  {
   "cell_type": "code",
   "execution_count": null,
   "metadata": {},
   "outputs": [],
   "source": []
  },
  {
   "cell_type": "code",
   "execution_count": null,
   "metadata": {},
   "outputs": [],
   "source": []
  }
 ],
 "metadata": {
  "language_info": {
   "name": "python"
  },
  "orig_nbformat": 4
 },
 "nbformat": 4,
 "nbformat_minor": 2
}

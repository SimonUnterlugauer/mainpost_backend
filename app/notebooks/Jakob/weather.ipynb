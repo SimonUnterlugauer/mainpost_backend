{
 "cells": [
  {
   "cell_type": "code",
   "execution_count": null,
   "metadata": {},
   "outputs": [],
   "source": [
    "import pandas as pd\n",
    "import numpy as np\n",
    "from datetime import date\n",
    "import matplotlib.pyplot as plt\n",
    "from sklearn import datasets\n",
    "from sklearn.model_selection import train_test_split\n",
    "from mlxtend.plotting import plot_decision_regions\n",
    "from sklearn.metrics import accuracy_score\n",
    "from sklearn.ensemble import RandomForestClassifier"
   ]
  },
  {
   "cell_type": "code",
   "execution_count": null,
   "metadata": {},
   "outputs": [],
   "source": [
    "weather_df = pd.read_csv(\"../../data/raw/weather_wuerz.csv\", delimiter=',')\n",
    "new_df = pd.read_csv(\"../../data/interim/absences_each_missday_a_row.csv\", delimiter=',')"
   ]
  },
  {
   "cell_type": "code",
   "execution_count": null,
   "metadata": {},
   "outputs": [],
   "source": [
    "# select column moonphase and datetime from weather_df\n",
    "weather_df = weather_df[['moonphase', 'datetime']]\n",
    "weather_df"
   ]
  },
  {
   "cell_type": "code",
   "execution_count": null,
   "metadata": {},
   "outputs": [],
   "source": [
    "# merge weather_df and new_df where date and datetime are equal\n",
    "#make datetime in weather_df to date\n",
    "weather_df['datetime'] = pd.to_datetime(weather_df['datetime'])\n",
    "moon_df = pd.merge(new_df, weather_df, how='left', left_on='date', right_on='datetime')\n",
    "\n",
    "# drop all rows with NaN values\n",
    "moon_df = moon_df.dropna()\n",
    "moon_df"
   ]
  },
  {
   "cell_type": "code",
   "execution_count": null,
   "metadata": {},
   "outputs": [],
   "source": [
    "# mean of the count column\n",
    "correlation = moon_df['count'].corr(moon_df['moonphase'])\n",
    "\n",
    "print(\"Correlation between 'count' and 'moonphase':\", correlation)"
   ]
  },
  {
   "cell_type": "code",
   "execution_count": null,
   "metadata": {},
   "outputs": [],
   "source": [
    "count_average = moon_df['count'].mean()\n",
    "\n",
    "# Filter the DataFrame to include rows where 'moonphase' is higher than 0.9\n",
    "high_moonphase_df = moon_df[moon_df['moonphase'] > 0.95]\n",
    "\n",
    "# Check if 'count' is higher than the average for high moonphases\n",
    "count_higher_than_average = high_moonphase_df['count'] > count_average\n",
    "\n",
    "# Boolean result indicating if 'count' is higher than average for high moonphases\n",
    "result = count_higher_than_average.any()\n",
    "\n",
    "print(\"Is count higher than average for high moonphases?\", result)"
   ]
  },
  {
   "cell_type": "code",
   "execution_count": null,
   "metadata": {},
   "outputs": [],
   "source": [
    "# mean of count column\n",
    "count_avg = high_moonphase_df['count'].mean()\n",
    "print(count_avg)\n",
    "print(count_average)"
   ]
  }
 ],
 "metadata": {
  "language_info": {
   "name": "python"
  },
  "orig_nbformat": 4
 },
 "nbformat": 4,
 "nbformat_minor": 2
}

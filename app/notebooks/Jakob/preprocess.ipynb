{
 "cells": [
  {
   "cell_type": "code",
   "execution_count": null,
   "metadata": {},
   "outputs": [],
   "source": [
    "import pandas as pd\n",
    "import numpy as np\n",
    "from datetime import date\n",
    "import matplotlib.pyplot as plt"
   ]
  },
  {
   "cell_type": "code",
   "execution_count": null,
   "metadata": {},
   "outputs": [],
   "source": [
    "#employee_df = pd.read_csv(r'C:\\Users\\jakob\\Desktop\\Projektseminar\\Data\\employees.csv', delimiter= '|')\n",
    "#absences_df = pd.read_csv(r'C:\\Users\\jakob\\Desktop\\Projektseminar\\Data\\absences.csv', delimiter='|')\n",
    "#weather_df = pd.read_csv(r'C:/Users/jakob/Downloads/weather_wuerz.csv', delimiter=',')\n",
    "\n",
    "employee_df = pd.read_csv(\"../../data/raw/employees.csv\", delimiter= '|')\n",
    "absences_df = pd.read_csv(\"../../data/raw/absences.csv\", delimiter= '|')\n"
   ]
  },
  {
   "cell_type": "code",
   "execution_count": null,
   "metadata": {},
   "outputs": [],
   "source": [
    "# drop NaN values and delete data for 2024 because to few data\n",
    "absences_df = absences_df.dropna(subset=['start_date', 'end_date'])\n",
    "absences_df = absences_df[absences_df['start_date'].str.contains('2024') == False]\n"
   ]
  },
  {
   "cell_type": "markdown",
   "metadata": {},
   "source": [
    "Do following only once and load dataframe 'absences_each_missday_a_row' for faster access\n",
    "Add rows for every booked absence, so each day is one person missing on one day."
   ]
  },
  {
   "cell_type": "code",
   "execution_count": null,
   "metadata": {},
   "outputs": [],
   "source": [
    "# Step 1: Create an empty list to store the rows of the new DataFrame\n",
    "new_rows = []\n",
    "\n",
    "# Step 2: Iterate over the original DataFrame row by row\n",
    "for index, row in absences_df.iterrows():\n",
    "    # Step 3: Generate a list of dates between 'start_date' and 'end_date' (inclusive)\n",
    "    date_range = pd.date_range(start=row['start_date'], end=row['end_date'])\n",
    "    \n",
    "    # Step 4: Duplicate the row for each date in the list and add a new column with the date value\n",
    "    for date in date_range:\n",
    "        new_row = row[['employee_id', 'reason', 'allocation_id']].copy()\n",
    "        new_row['date'] = date\n",
    "        new_rows.append(new_row)\n",
    "\n",
    "# Step 6: Create a new DataFrame using the list of duplicated rows\n",
    "new_df = pd.DataFrame(new_rows)\n",
    "\n",
    "# Reset the index of the new DataFrame\n",
    "new_df.reset_index(drop=True, inplace=True)\n",
    "\n",
    "# save df for faster reload/access\n",
    "new_df.to_csv(\"../../data/interim/absences_each_missday_a_row.csv\", index=False)\n",
    "\n",
    "# Display the new DataFrame\n",
    "new_df\n"
   ]
  },
  {
   "cell_type": "code",
   "execution_count": null,
   "metadata": {},
   "outputs": [],
   "source": [
    "# read dataframe for faster access\n",
    "my_df = pd.read_csv(\"../../data/interim/absences_each_missday_a_row.csv\", delimiter=',')\n"
   ]
  },
  {
   "cell_type": "code",
   "execution_count": null,
   "metadata": {},
   "outputs": [],
   "source": [
    "# order new_df by date\n",
    "my_df = my_df.sort_values(by=['date'])\n",
    "min_date = absences_df['start_date'].min()\n",
    "max_date = absences_df['start_date'].max()\n",
    "\n",
    "# Create a DataFrame with the date_range\n",
    "date_range = pd.date_range(start=min_date, end=max_date)\n",
    "all_dates = pd.DataFrame({'Date': date_range})\n",
    "my_df['date'] = pd.to_datetime(my_df['date'])\n"
   ]
  },
  {
   "cell_type": "code",
   "execution_count": null,
   "metadata": {},
   "outputs": [],
   "source": [
    "# join the two DataFrames\n",
    "new_df = pd.merge(all_dates, my_df, how='left', left_on='Date', right_on='date')\n",
    "#drop Date and employee_id\n",
    "new_df = new_df.drop(['date', 'employee_id'], axis=1)\n",
    "new_df"
   ]
  },
  {
   "cell_type": "code",
   "execution_count": null,
   "metadata": {},
   "outputs": [],
   "source": [
    "aggregated_df = new_df.groupby('date').size().reset_index(name='count')\n",
    "\n",
    "# Set 'date' column as the index\n",
    "aggregated_df.set_index('date', inplace=True)\n",
    "\n",
    "# Generate the complete date range from the minimum to the maximum date in the original dataframe\n",
    "date_range = pd.date_range(start=new_df['date'].min(), end=new_df['date'].max(), freq='D')\n",
    "\n",
    "# Reindex the aggregated dataframe to include missing dates and fill the NaN with zero\n",
    "aggregated_df = aggregated_df.reindex(date_range, fill_value=0).reset_index()\n",
    "\n",
    "aggregated_df"
   ]
  },
  {
   "cell_type": "code",
   "execution_count": null,
   "metadata": {},
   "outputs": [],
   "source": [
    "aggregated_df['day_of_week'] = aggregated_df['index'].dt.dayofweek\n",
    "aggregated_df['month'] = aggregated_df['index'].dt.month\n",
    "aggregated_df['season'] = aggregated_df['index'].dt.quarter\n",
    "# save dataframe for faster access\n",
    "my_df = pd.to_csv(\"../../data/interim/absences_each_missday_a_row.csv\", delimiter=',')\n",
    "aggregated_df"
   ]
  },
  {
   "cell_type": "code",
   "execution_count": null,
   "metadata": {},
   "outputs": [],
   "source": []
  },
  {
   "cell_type": "code",
   "execution_count": null,
   "metadata": {},
   "outputs": [],
   "source": []
  }
 ],
 "metadata": {
  "language_info": {
   "name": "python"
  },
  "orig_nbformat": 4
 },
 "nbformat": 4,
 "nbformat_minor": 2
}

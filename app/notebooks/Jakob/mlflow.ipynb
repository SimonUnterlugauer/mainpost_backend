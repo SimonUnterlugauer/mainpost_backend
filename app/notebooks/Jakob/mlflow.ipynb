{
 "cells": [
  {
   "cell_type": "code",
   "execution_count": 1,
   "metadata": {},
   "outputs": [],
   "source": [
    "import mlflow\n",
    "from mlflow.models import infer_signature\n",
    "import mlflow.sklearn"
   ]
  },
  {
   "cell_type": "code",
   "execution_count": 2,
   "metadata": {},
   "outputs": [
    {
     "ename": "ValueError",
     "evalue": "could not convert string to float: '--ip=127.0.0.1'",
     "output_type": "error",
     "traceback": [
      "\u001b[1;31m---------------------------------------------------------------------------\u001b[0m",
      "\u001b[1;31mValueError\u001b[0m                                Traceback (most recent call last)",
      "Cell \u001b[1;32mIn[2], line 52\u001b[0m\n\u001b[0;32m     49\u001b[0m train_y \u001b[39m=\u001b[39m train[[\u001b[39m\"\u001b[39m\u001b[39mquality\u001b[39m\u001b[39m\"\u001b[39m]]\n\u001b[0;32m     50\u001b[0m test_y \u001b[39m=\u001b[39m test[[\u001b[39m\"\u001b[39m\u001b[39mquality\u001b[39m\u001b[39m\"\u001b[39m]]\n\u001b[1;32m---> 52\u001b[0m alpha \u001b[39m=\u001b[39m \u001b[39mfloat\u001b[39;49m(sys\u001b[39m.\u001b[39;49margv[\u001b[39m1\u001b[39;49m]) \u001b[39mif\u001b[39;00m \u001b[39mlen\u001b[39m(sys\u001b[39m.\u001b[39margv) \u001b[39m>\u001b[39m \u001b[39m1\u001b[39m \u001b[39melse\u001b[39;00m \u001b[39m0.5\u001b[39m\n\u001b[0;32m     53\u001b[0m l1_ratio \u001b[39m=\u001b[39m \u001b[39mfloat\u001b[39m(sys\u001b[39m.\u001b[39margv[\u001b[39m2\u001b[39m]) \u001b[39mif\u001b[39;00m \u001b[39mlen\u001b[39m(sys\u001b[39m.\u001b[39margv) \u001b[39m>\u001b[39m \u001b[39m2\u001b[39m \u001b[39melse\u001b[39;00m \u001b[39m0.5\u001b[39m\n\u001b[0;32m     55\u001b[0m \u001b[39mwith\u001b[39;00m mlflow\u001b[39m.\u001b[39mstart_run():\n",
      "\u001b[1;31mValueError\u001b[0m: could not convert string to float: '--ip=127.0.0.1'"
     ]
    }
   ],
   "source": [
    "mlflow.set_tracking_uri('./mlruns')\n",
    "mlflow.set_experiment('singlts')\n",
    "experiment = mlflow.get_experiment_by_name('singlets')\n",
    "client = MlflowClient()\n",
    "\n",
    "run = client.create_run(experiment.experiment_id)\n",
    "\n",
    "with mlflow.start_run(run_id=run.info.run_id) as run:\n",
    "\n",
    "    model_lightGBM.fit(series=train_dataset_ts_prepared)\n",
    "    #signature = infer_signature(test_dataset_ts_prepared, model_lightGBM.predict(n=forecast_horizons, series=train_dataset_ts_prepared))\n",
    "    \n",
    "    mlflow.lightgbm.log_model(model_lightGBM, 'model')"
   ]
  }
 ],
 "metadata": {
  "kernelspec": {
   "display_name": "Python 3",
   "language": "python",
   "name": "python3"
  },
  "language_info": {
   "codemirror_mode": {
    "name": "ipython",
    "version": 3
   },
   "file_extension": ".py",
   "mimetype": "text/x-python",
   "name": "python",
   "nbconvert_exporter": "python",
   "pygments_lexer": "ipython3",
   "version": "3.9.13"
  },
  "orig_nbformat": 4
 },
 "nbformat": 4,
 "nbformat_minor": 2
}
